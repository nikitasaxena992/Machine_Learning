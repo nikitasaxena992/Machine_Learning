{
  "nbformat": 4,
  "nbformat_minor": 0,
  "metadata": {
    "colab": {
      "name": "Linear_Regression.ipynb",
      "provenance": [],
      "collapsed_sections": [],
      "authorship_tag": "ABX9TyPQl7e2g0It2Nokm5possPc",
      "include_colab_link": true
    },
    "kernelspec": {
      "name": "python3",
      "display_name": "Python 3"
    }
  },
  "cells": [
    {
      "cell_type": "markdown",
      "metadata": {
        "id": "view-in-github",
        "colab_type": "text"
      },
      "source": [
        "<a href=\"https://colab.research.google.com/github/nikitasaxena992/Machine_Learning/blob/main/Linear_Regression.ipynb\" target=\"_parent\"><img src=\"https://colab.research.google.com/assets/colab-badge.svg\" alt=\"Open In Colab\"/></a>"
      ]
    },
    {
      "cell_type": "markdown",
      "metadata": {
        "id": "fqxj3C1mARr-"
      },
      "source": [
        "Linear Regression is a type of regression where the number of independent variable is one and there is liner relationship between the independent(X) and dependent(y) variable.\r\n",
        "Equation is:\r\n",
        "**y=b+ax**"
      ]
    },
    {
      "cell_type": "code",
      "metadata": {
        "id": "FWdFyIBc_KB5"
      },
      "source": [
        "import numpy as np\r\n",
        "import pandas as pd"
      ],
      "execution_count": null,
      "outputs": []
    },
    {
      "cell_type": "code",
      "metadata": {
        "id": "eM8_PWBwA2Bh"
      },
      "source": [
        "df_train = pd.read_csv('/content/train.csv')\r\n",
        "df_test = pd.read_csv('/content/test.csv')\r\n",
        "\r\n",
        "x_train = df_train['x']\r\n",
        "y_train = df_train['y']\r\n",
        "x_test = df_test['x']\r\n",
        "y_test = df_test['y']\r\n",
        "\r\n",
        "x_train = np.array(x_train)\r\n",
        "y_train = np.array(y_train)\r\n",
        "x_test = np.array(x_test)\r\n",
        "y_test = np.array(y_test)\r\n",
        "\r\n",
        "x_train = x_train.reshape(-1,1)\r\n",
        "x_test = x_test.reshape(-1,1)"
      ],
      "execution_count": null,
      "outputs": []
    },
    {
      "cell_type": "code",
      "metadata": {
        "id": "FraZQudjP1vE"
      },
      "source": [
        ""
      ],
      "execution_count": null,
      "outputs": []
    },
    {
      "cell_type": "code",
      "metadata": {
        "colab": {
          "base_uri": "https://localhost:8080/"
        },
        "id": "Wkwv1i8vVy6W",
        "outputId": "5bf8ba58-9151-4893-e7ed-84c7727a070f"
      },
      "source": [
        "x_train.shape"
      ],
      "execution_count": null,
      "outputs": [
        {
          "output_type": "execute_result",
          "data": {
            "text/plain": [
              "(700, 1)"
            ]
          },
          "metadata": {
            "tags": []
          },
          "execution_count": 13
        }
      ]
    },
    {
      "cell_type": "code",
      "metadata": {
        "colab": {
          "base_uri": "https://localhost:8080/"
        },
        "id": "IFQhrreYV5s1",
        "outputId": "94f86bf1-1d28-4fd1-d6ef-44fc11a94997"
      },
      "source": [
        "x_test.shape"
      ],
      "execution_count": null,
      "outputs": [
        {
          "output_type": "execute_result",
          "data": {
            "text/plain": [
              "(300, 1)"
            ]
          },
          "metadata": {
            "tags": []
          },
          "execution_count": 17
        }
      ]
    },
    {
      "cell_type": "code",
      "metadata": {
        "colab": {
          "base_uri": "https://localhost:8080/"
        },
        "id": "X5pI9RV1YQQ1",
        "outputId": "0e33626e-4f06-49ac-8a12-87c840a12fc1"
      },
      "source": [
        "x_test"
      ],
      "execution_count": null,
      "outputs": [
        {
          "output_type": "execute_result",
          "data": {
            "text/plain": [
              "array([[ 77],\n",
              "       [ 21],\n",
              "       [ 22],\n",
              "       [ 20],\n",
              "       [ 36],\n",
              "       [ 15],\n",
              "       [ 62],\n",
              "       [ 95],\n",
              "       [ 20],\n",
              "       [  5],\n",
              "       [  4],\n",
              "       [ 19],\n",
              "       [ 96],\n",
              "       [ 62],\n",
              "       [ 36],\n",
              "       [ 15],\n",
              "       [ 65],\n",
              "       [ 14],\n",
              "       [ 87],\n",
              "       [ 69],\n",
              "       [ 89],\n",
              "       [ 51],\n",
              "       [ 89],\n",
              "       [ 27],\n",
              "       [ 97],\n",
              "       [ 58],\n",
              "       [ 79],\n",
              "       [ 21],\n",
              "       [ 93],\n",
              "       [ 27],\n",
              "       [ 99],\n",
              "       [ 31],\n",
              "       [ 33],\n",
              "       [ 80],\n",
              "       [ 28],\n",
              "       [ 47],\n",
              "       [ 53],\n",
              "       [ 69],\n",
              "       [ 28],\n",
              "       [ 33],\n",
              "       [ 91],\n",
              "       [ 71],\n",
              "       [ 50],\n",
              "       [ 76],\n",
              "       [  4],\n",
              "       [ 37],\n",
              "       [ 70],\n",
              "       [ 68],\n",
              "       [ 40],\n",
              "       [ 35],\n",
              "       [ 94],\n",
              "       [ 88],\n",
              "       [ 52],\n",
              "       [ 31],\n",
              "       [ 59],\n",
              "       [  0],\n",
              "       [ 39],\n",
              "       [ 64],\n",
              "       [ 69],\n",
              "       [ 57],\n",
              "       [ 13],\n",
              "       [ 72],\n",
              "       [ 76],\n",
              "       [ 61],\n",
              "       [ 82],\n",
              "       [ 18],\n",
              "       [ 41],\n",
              "       [ 50],\n",
              "       [ 55],\n",
              "       [ 13],\n",
              "       [ 46],\n",
              "       [ 13],\n",
              "       [ 79],\n",
              "       [ 53],\n",
              "       [ 15],\n",
              "       [ 28],\n",
              "       [ 81],\n",
              "       [ 69],\n",
              "       [ 52],\n",
              "       [ 84],\n",
              "       [ 68],\n",
              "       [ 27],\n",
              "       [ 56],\n",
              "       [ 48],\n",
              "       [ 40],\n",
              "       [ 39],\n",
              "       [ 82],\n",
              "       [100],\n",
              "       [ 59],\n",
              "       [ 43],\n",
              "       [ 67],\n",
              "       [ 38],\n",
              "       [ 63],\n",
              "       [ 91],\n",
              "       [ 60],\n",
              "       [ 14],\n",
              "       [ 21],\n",
              "       [ 87],\n",
              "       [ 73],\n",
              "       [ 32],\n",
              "       [  2],\n",
              "       [ 82],\n",
              "       [ 19],\n",
              "       [ 74],\n",
              "       [ 42],\n",
              "       [ 12],\n",
              "       [  1],\n",
              "       [ 90],\n",
              "       [ 89],\n",
              "       [  0],\n",
              "       [ 41],\n",
              "       [ 16],\n",
              "       [ 94],\n",
              "       [ 97],\n",
              "       [ 66],\n",
              "       [ 24],\n",
              "       [ 17],\n",
              "       [ 90],\n",
              "       [ 13],\n",
              "       [  0],\n",
              "       [ 64],\n",
              "       [ 96],\n",
              "       [ 98],\n",
              "       [ 12],\n",
              "       [ 41],\n",
              "       [ 47],\n",
              "       [ 78],\n",
              "       [ 20],\n",
              "       [ 89],\n",
              "       [ 29],\n",
              "       [ 64],\n",
              "       [ 75],\n",
              "       [ 12],\n",
              "       [ 25],\n",
              "       [ 28],\n",
              "       [ 30],\n",
              "       [ 65],\n",
              "       [ 59],\n",
              "       [ 64],\n",
              "       [ 53],\n",
              "       [ 71],\n",
              "       [ 97],\n",
              "       [ 73],\n",
              "       [  9],\n",
              "       [ 12],\n",
              "       [ 63],\n",
              "       [ 99],\n",
              "       [ 60],\n",
              "       [ 35],\n",
              "       [  2],\n",
              "       [ 60],\n",
              "       [ 32],\n",
              "       [ 94],\n",
              "       [ 84],\n",
              "       [ 63],\n",
              "       [ 22],\n",
              "       [ 81],\n",
              "       [ 93],\n",
              "       [ 33],\n",
              "       [  7],\n",
              "       [ 42],\n",
              "       [ 46],\n",
              "       [ 54],\n",
              "       [ 16],\n",
              "       [ 49],\n",
              "       [ 43],\n",
              "       [ 95],\n",
              "       [ 66],\n",
              "       [ 21],\n",
              "       [ 35],\n",
              "       [ 80],\n",
              "       [ 37],\n",
              "       [ 54],\n",
              "       [ 56],\n",
              "       [  1],\n",
              "       [ 32],\n",
              "       [ 58],\n",
              "       [ 32],\n",
              "       [ 46],\n",
              "       [ 72],\n",
              "       [ 17],\n",
              "       [ 97],\n",
              "       [ 93],\n",
              "       [ 91],\n",
              "       [ 37],\n",
              "       [  4],\n",
              "       [ 54],\n",
              "       [ 51],\n",
              "       [ 27],\n",
              "       [ 46],\n",
              "       [ 92],\n",
              "       [ 73],\n",
              "       [ 77],\n",
              "       [ 91],\n",
              "       [ 61],\n",
              "       [ 99],\n",
              "       [  4],\n",
              "       [ 72],\n",
              "       [ 19],\n",
              "       [ 57],\n",
              "       [ 78],\n",
              "       [ 26],\n",
              "       [ 74],\n",
              "       [ 90],\n",
              "       [ 66],\n",
              "       [ 13],\n",
              "       [ 40],\n",
              "       [ 77],\n",
              "       [ 67],\n",
              "       [ 75],\n",
              "       [ 23],\n",
              "       [ 45],\n",
              "       [ 59],\n",
              "       [ 44],\n",
              "       [ 23],\n",
              "       [ 55],\n",
              "       [ 55],\n",
              "       [ 95],\n",
              "       [ 12],\n",
              "       [  4],\n",
              "       [  7],\n",
              "       [100],\n",
              "       [ 48],\n",
              "       [ 42],\n",
              "       [ 96],\n",
              "       [ 39],\n",
              "       [100],\n",
              "       [ 87],\n",
              "       [ 14],\n",
              "       [ 14],\n",
              "       [ 37],\n",
              "       [  5],\n",
              "       [ 88],\n",
              "       [ 91],\n",
              "       [ 65],\n",
              "       [ 74],\n",
              "       [ 56],\n",
              "       [ 16],\n",
              "       [  5],\n",
              "       [ 28],\n",
              "       [ 92],\n",
              "       [ 46],\n",
              "       [ 54],\n",
              "       [ 39],\n",
              "       [ 44],\n",
              "       [ 31],\n",
              "       [ 68],\n",
              "       [ 86],\n",
              "       [ 90],\n",
              "       [ 38],\n",
              "       [ 21],\n",
              "       [ 95],\n",
              "       [ 56],\n",
              "       [ 60],\n",
              "       [ 65],\n",
              "       [ 78],\n",
              "       [ 89],\n",
              "       [  6],\n",
              "       [ 67],\n",
              "       [ 36],\n",
              "       [ 16],\n",
              "       [100],\n",
              "       [ 45],\n",
              "       [ 73],\n",
              "       [ 57],\n",
              "       [ 20],\n",
              "       [ 76],\n",
              "       [ 34],\n",
              "       [ 55],\n",
              "       [ 72],\n",
              "       [ 55],\n",
              "       [  8],\n",
              "       [ 56],\n",
              "       [ 72],\n",
              "       [ 58],\n",
              "       [  6],\n",
              "       [ 96],\n",
              "       [ 23],\n",
              "       [ 58],\n",
              "       [ 23],\n",
              "       [ 19],\n",
              "       [ 25],\n",
              "       [ 64],\n",
              "       [ 21],\n",
              "       [ 59],\n",
              "       [ 19],\n",
              "       [ 16],\n",
              "       [ 42],\n",
              "       [ 43],\n",
              "       [ 61],\n",
              "       [ 92],\n",
              "       [ 11],\n",
              "       [ 41],\n",
              "       [  1],\n",
              "       [  8],\n",
              "       [ 71],\n",
              "       [ 46],\n",
              "       [ 55],\n",
              "       [ 62],\n",
              "       [ 47]])"
            ]
          },
          "metadata": {
            "tags": []
          },
          "execution_count": 22
        }
      ]
    },
    {
      "cell_type": "code",
      "metadata": {
        "colab": {
          "base_uri": "https://localhost:8080/",
          "height": 370
        },
        "id": "b2hF3wjFBVwO",
        "outputId": "69740083-9c6f-43fe-c113-557a11427258"
      },
      "source": [
        "from sklearn.linear_model import LinearRegression\r\n",
        "from sklearn.metrics import r2_score\r\n",
        "\r\n",
        "clf = LinearRegression(normalize=True)\r\n",
        "clf.fit(x_train,y_train)\r\n",
        "y_pred= clf.predict(x_test)\r\n",
        "print(r2_score(y_test,y_pred))"
      ],
      "execution_count": null,
      "outputs": [
        {
          "output_type": "error",
          "ename": "ValueError",
          "evalue": "ignored",
          "traceback": [
            "\u001b[0;31m---------------------------------------------------------------------------\u001b[0m",
            "\u001b[0;31mValueError\u001b[0m                                Traceback (most recent call last)",
            "\u001b[0;32m<ipython-input-16-baf992bd3763>\u001b[0m in \u001b[0;36m<module>\u001b[0;34m()\u001b[0m\n\u001b[1;32m      3\u001b[0m \u001b[0;34m\u001b[0m\u001b[0m\n\u001b[1;32m      4\u001b[0m \u001b[0mclf\u001b[0m \u001b[0;34m=\u001b[0m \u001b[0mLinearRegression\u001b[0m\u001b[0;34m(\u001b[0m\u001b[0mnormalize\u001b[0m\u001b[0;34m=\u001b[0m\u001b[0;32mTrue\u001b[0m\u001b[0;34m)\u001b[0m\u001b[0;34m\u001b[0m\u001b[0;34m\u001b[0m\u001b[0m\n\u001b[0;32m----> 5\u001b[0;31m \u001b[0mclf\u001b[0m\u001b[0;34m.\u001b[0m\u001b[0mfit\u001b[0m\u001b[0;34m(\u001b[0m\u001b[0mx_train\u001b[0m\u001b[0;34m,\u001b[0m\u001b[0my_train\u001b[0m\u001b[0;34m)\u001b[0m\u001b[0;34m\u001b[0m\u001b[0;34m\u001b[0m\u001b[0m\n\u001b[0m\u001b[1;32m      6\u001b[0m \u001b[0my_pred\u001b[0m\u001b[0;34m=\u001b[0m \u001b[0mclf\u001b[0m\u001b[0;34m.\u001b[0m\u001b[0mpredict\u001b[0m\u001b[0;34m(\u001b[0m\u001b[0mx_test\u001b[0m\u001b[0;34m)\u001b[0m\u001b[0;34m\u001b[0m\u001b[0;34m\u001b[0m\u001b[0m\n\u001b[1;32m      7\u001b[0m \u001b[0mprint\u001b[0m\u001b[0;34m(\u001b[0m\u001b[0mr2_score\u001b[0m\u001b[0;34m(\u001b[0m\u001b[0my_test\u001b[0m\u001b[0;34m,\u001b[0m\u001b[0my_pred\u001b[0m\u001b[0;34m)\u001b[0m\u001b[0;34m)\u001b[0m\u001b[0;34m\u001b[0m\u001b[0;34m\u001b[0m\u001b[0m\n",
            "\u001b[0;32m/usr/local/lib/python3.6/dist-packages/sklearn/linear_model/_base.py\u001b[0m in \u001b[0;36mfit\u001b[0;34m(self, X, y, sample_weight)\u001b[0m\n\u001b[1;32m    490\u001b[0m         \u001b[0mn_jobs_\u001b[0m \u001b[0;34m=\u001b[0m \u001b[0mself\u001b[0m\u001b[0;34m.\u001b[0m\u001b[0mn_jobs\u001b[0m\u001b[0;34m\u001b[0m\u001b[0;34m\u001b[0m\u001b[0m\n\u001b[1;32m    491\u001b[0m         X, y = check_X_y(X, y, accept_sparse=['csr', 'csc', 'coo'],\n\u001b[0;32m--> 492\u001b[0;31m                          y_numeric=True, multi_output=True)\n\u001b[0m\u001b[1;32m    493\u001b[0m \u001b[0;34m\u001b[0m\u001b[0m\n\u001b[1;32m    494\u001b[0m         \u001b[0;32mif\u001b[0m \u001b[0msample_weight\u001b[0m \u001b[0;32mis\u001b[0m \u001b[0;32mnot\u001b[0m \u001b[0;32mNone\u001b[0m\u001b[0;34m:\u001b[0m\u001b[0;34m\u001b[0m\u001b[0;34m\u001b[0m\u001b[0m\n",
            "\u001b[0;32m/usr/local/lib/python3.6/dist-packages/sklearn/utils/validation.py\u001b[0m in \u001b[0;36mcheck_X_y\u001b[0;34m(X, y, accept_sparse, accept_large_sparse, dtype, order, copy, force_all_finite, ensure_2d, allow_nd, multi_output, ensure_min_samples, ensure_min_features, y_numeric, warn_on_dtype, estimator)\u001b[0m\n\u001b[1;32m    756\u001b[0m     \u001b[0;32mif\u001b[0m \u001b[0mmulti_output\u001b[0m\u001b[0;34m:\u001b[0m\u001b[0;34m\u001b[0m\u001b[0;34m\u001b[0m\u001b[0m\n\u001b[1;32m    757\u001b[0m         y = check_array(y, 'csr', force_all_finite=True, ensure_2d=False,\n\u001b[0;32m--> 758\u001b[0;31m                         dtype=None)\n\u001b[0m\u001b[1;32m    759\u001b[0m     \u001b[0;32melse\u001b[0m\u001b[0;34m:\u001b[0m\u001b[0;34m\u001b[0m\u001b[0;34m\u001b[0m\u001b[0m\n\u001b[1;32m    760\u001b[0m         \u001b[0my\u001b[0m \u001b[0;34m=\u001b[0m \u001b[0mcolumn_or_1d\u001b[0m\u001b[0;34m(\u001b[0m\u001b[0my\u001b[0m\u001b[0;34m,\u001b[0m \u001b[0mwarn\u001b[0m\u001b[0;34m=\u001b[0m\u001b[0;32mTrue\u001b[0m\u001b[0;34m)\u001b[0m\u001b[0;34m\u001b[0m\u001b[0;34m\u001b[0m\u001b[0m\n",
            "\u001b[0;32m/usr/local/lib/python3.6/dist-packages/sklearn/utils/validation.py\u001b[0m in \u001b[0;36mcheck_array\u001b[0;34m(array, accept_sparse, accept_large_sparse, dtype, order, copy, force_all_finite, ensure_2d, allow_nd, ensure_min_samples, ensure_min_features, warn_on_dtype, estimator)\u001b[0m\n\u001b[1;32m    576\u001b[0m         \u001b[0;32mif\u001b[0m \u001b[0mforce_all_finite\u001b[0m\u001b[0;34m:\u001b[0m\u001b[0;34m\u001b[0m\u001b[0;34m\u001b[0m\u001b[0m\n\u001b[1;32m    577\u001b[0m             _assert_all_finite(array,\n\u001b[0;32m--> 578\u001b[0;31m                                allow_nan=force_all_finite == 'allow-nan')\n\u001b[0m\u001b[1;32m    579\u001b[0m \u001b[0;34m\u001b[0m\u001b[0m\n\u001b[1;32m    580\u001b[0m     \u001b[0;32mif\u001b[0m \u001b[0mensure_min_samples\u001b[0m \u001b[0;34m>\u001b[0m \u001b[0;36m0\u001b[0m\u001b[0;34m:\u001b[0m\u001b[0;34m\u001b[0m\u001b[0;34m\u001b[0m\u001b[0m\n",
            "\u001b[0;32m/usr/local/lib/python3.6/dist-packages/sklearn/utils/validation.py\u001b[0m in \u001b[0;36m_assert_all_finite\u001b[0;34m(X, allow_nan, msg_dtype)\u001b[0m\n\u001b[1;32m     58\u001b[0m                     \u001b[0mmsg_err\u001b[0m\u001b[0;34m.\u001b[0m\u001b[0mformat\u001b[0m\u001b[0;34m\u001b[0m\u001b[0;34m\u001b[0m\u001b[0m\n\u001b[1;32m     59\u001b[0m                     (type_err,\n\u001b[0;32m---> 60\u001b[0;31m                      msg_dtype if msg_dtype is not None else X.dtype)\n\u001b[0m\u001b[1;32m     61\u001b[0m             )\n\u001b[1;32m     62\u001b[0m     \u001b[0;31m# for object dtype data, we only check for NaNs (GH-13254)\u001b[0m\u001b[0;34m\u001b[0m\u001b[0;34m\u001b[0m\u001b[0;34m\u001b[0m\u001b[0m\n",
            "\u001b[0;31mValueError\u001b[0m: Input contains NaN, infinity or a value too large for dtype('float64')."
          ]
        }
      ]
    },
    {
      "cell_type": "code",
      "metadata": {
        "colab": {
          "base_uri": "https://localhost:8080/",
          "height": 229
        },
        "id": "qzHivysiMAlB",
        "outputId": "4f335797-5e6f-40ef-fddb-37f90efe3a7f"
      },
      "source": [
        "import numpy as np\r\n",
        "n=700\r\n",
        "alpha =0.0001\r\n",
        "b = np.zeros((n,1))\r\n",
        "a = np.zeros((n,1))\r\n",
        "\r\n",
        "epochs = 0\r\n",
        "while(epochs < 1000):\r\n",
        "    y = a+ b*x_train\r\n",
        "    error= y - y_train\r\n",
        "    mean_sq_er = np.sum(error**2)\r\n",
        "    mean_sq_er = mean_sq_er/n\r\n",
        "    a = a - alpha *2* np.sum(error)/n\r\n",
        "    b = b - alpha * 2* np.sum(error * x_train)/n\r\n",
        "    epochs +=1\r\n",
        "    if(epochs%10 == 0):\r\n",
        "        print(mean_sq_er)"
      ],
      "execution_count": null,
      "outputs": [
        {
          "output_type": "error",
          "ename": "ValueError",
          "evalue": "ignored",
          "traceback": [
            "\u001b[0;31m---------------------------------------------------------------------------\u001b[0m",
            "\u001b[0;31mValueError\u001b[0m                                Traceback (most recent call last)",
            "\u001b[0;32m<ipython-input-9-8b6d7b75b114>\u001b[0m in \u001b[0;36m<module>\u001b[0;34m()\u001b[0m\n\u001b[1;32m      7\u001b[0m \u001b[0mepochs\u001b[0m \u001b[0;34m=\u001b[0m \u001b[0;36m0\u001b[0m\u001b[0;34m\u001b[0m\u001b[0;34m\u001b[0m\u001b[0m\n\u001b[1;32m      8\u001b[0m \u001b[0;32mwhile\u001b[0m\u001b[0;34m(\u001b[0m\u001b[0mepochs\u001b[0m \u001b[0;34m<\u001b[0m \u001b[0;36m1000\u001b[0m\u001b[0;34m)\u001b[0m\u001b[0;34m:\u001b[0m\u001b[0;34m\u001b[0m\u001b[0;34m\u001b[0m\u001b[0m\n\u001b[0;32m----> 9\u001b[0;31m     \u001b[0my\u001b[0m \u001b[0;34m=\u001b[0m \u001b[0ma\u001b[0m\u001b[0;34m+\u001b[0m \u001b[0mb\u001b[0m\u001b[0;34m*\u001b[0m\u001b[0mx_train\u001b[0m\u001b[0;34m\u001b[0m\u001b[0;34m\u001b[0m\u001b[0m\n\u001b[0m\u001b[1;32m     10\u001b[0m     \u001b[0merror\u001b[0m\u001b[0;34m=\u001b[0m \u001b[0my\u001b[0m \u001b[0;34m-\u001b[0m \u001b[0my_train\u001b[0m\u001b[0;34m\u001b[0m\u001b[0;34m\u001b[0m\u001b[0m\n\u001b[1;32m     11\u001b[0m     \u001b[0mmean_sq_er\u001b[0m \u001b[0;34m=\u001b[0m \u001b[0mnp\u001b[0m\u001b[0;34m.\u001b[0m\u001b[0msum\u001b[0m\u001b[0;34m(\u001b[0m\u001b[0merror\u001b[0m\u001b[0;34m**\u001b[0m\u001b[0;36m2\u001b[0m\u001b[0;34m)\u001b[0m\u001b[0;34m\u001b[0m\u001b[0;34m\u001b[0m\u001b[0m\n",
            "\u001b[0;31mValueError\u001b[0m: operands could not be broadcast together with shapes (700,1) (300,1) "
          ]
        }
      ]
    },
    {
      "cell_type": "markdown",
      "metadata": {
        "id": "GCcb6-m3jpZT"
      },
      "source": [
        "## **New Code**"
      ]
    },
    {
      "cell_type": "code",
      "metadata": {
        "id": "fBFI0NbZUZBL"
      },
      "source": [
        "import numpy as np\r\n",
        "import pandas as pd\r\n",
        "import matplotlib.pyplot as plt"
      ],
      "execution_count": null,
      "outputs": []
    },
    {
      "cell_type": "code",
      "metadata": {
        "id": "KUY-B8RYkhZI"
      },
      "source": [
        "dataset = pd.read_csv('/content/Admission_Predict.csv')\r\n",
        "X = dataset.iloc[:,-1].values\r\n",
        "y = dataset.iloc[:,1].values"
      ],
      "execution_count": null,
      "outputs": []
    },
    {
      "cell_type": "code",
      "metadata": {
        "colab": {
          "base_uri": "https://localhost:8080/"
        },
        "id": "gUTSFO_E27to",
        "outputId": "b448b9c0-e11e-43c6-f2d4-21fe689e9b10"
      },
      "source": [
        "y\r\n"
      ],
      "execution_count": null,
      "outputs": [
        {
          "output_type": "execute_result",
          "data": {
            "text/plain": [
              "array([337, 324, 316, 322, 314, 330, 321, 308, 302, 323, 325, 327, 328,\n",
              "       307, 311, 314, 317, 319, 318, 303, 312, 325, 328, 334, 336, 340,\n",
              "       322, 298, 295, 310, 300, 327, 338, 340, 331, 320, 299, 300, 304,\n",
              "       307, 308, 316, 313, 332, 326, 322, 329, 339, 321, 327, 313, 312,\n",
              "       334, 324, 322, 320, 316, 298, 300, 311, 309, 307, 304, 315, 325,\n",
              "       325, 327, 316, 318, 328, 332, 336, 321, 314, 314, 329, 327, 301,\n",
              "       296, 294, 312, 340, 320, 322, 340, 319, 315, 317, 314, 316, 318,\n",
              "       299, 298, 301, 303, 304, 306, 331, 332, 323, 322, 312, 314, 317,\n",
              "       326, 316, 329, 338, 331, 304, 305, 321, 301, 320, 311, 310, 299,\n",
              "       290, 296, 327, 335, 334, 310, 308, 301, 300, 323, 319, 326, 333,\n",
              "       339, 303, 309, 323, 333, 314, 312, 316, 326, 318, 329, 332, 331,\n",
              "       340, 325, 320, 315, 326, 339, 311, 334, 332, 321, 324, 326, 312,\n",
              "       315, 309, 306, 297, 315, 298, 318, 317, 329, 322, 302, 313, 293,\n",
              "       311, 312, 334, 322, 323, 321, 320, 329, 319, 309, 307, 300, 305,\n",
              "       299, 314, 316, 327, 317, 335, 331, 324, 324, 323, 322, 336, 316,\n",
              "       307, 306, 310, 311, 313, 317, 315, 340, 334, 298, 295, 315, 310,\n",
              "       305, 301, 325, 328, 338, 333, 331, 330, 322, 321, 324, 312, 313,\n",
              "       316, 324, 308, 305, 296, 306, 312, 318, 324, 313, 319, 312, 304,\n",
              "       330, 326, 325, 329, 310, 299, 296, 317, 324, 325, 314, 328, 316,\n",
              "       311, 324, 321, 320, 316, 318, 335, 321, 307, 309, 324, 326, 331,\n",
              "       327, 312, 308, 324, 325, 313, 312, 314, 327, 308, 306, 299, 294,\n",
              "       312, 315, 322, 329, 320, 308, 304, 311, 317, 312, 321, 340, 331,\n",
              "       336, 324, 314, 313, 307, 300, 302, 312, 316, 317, 310, 320, 330,\n",
              "       305, 309, 319, 322, 323, 313, 321, 323, 325, 312, 308, 320, 328,\n",
              "       311, 301, 305, 308, 298, 300, 324, 327, 317, 323, 314, 305, 315,\n",
              "       326, 299, 295, 324, 297, 327, 311, 308, 319, 312, 325, 319, 332,\n",
              "       323, 324, 312, 326, 308, 305, 295, 316, 304, 299, 302, 313, 318,\n",
              "       325, 303, 300, 297, 317, 327, 301, 314, 321, 322, 334, 338, 306,\n",
              "       313, 330, 320, 311, 298, 301, 310, 324, 336, 321, 315, 304, 297,\n",
              "       290, 303, 311, 322, 319, 324, 300, 340, 335, 302, 307, 296, 320,\n",
              "       314, 318, 326, 317, 329, 324, 325, 330, 312, 333])"
            ]
          },
          "metadata": {
            "tags": []
          },
          "execution_count": 69
        }
      ]
    },
    {
      "cell_type": "code",
      "metadata": {
        "colab": {
          "base_uri": "https://localhost:8080/"
        },
        "id": "3uugESl06LXc",
        "outputId": "b00a1687-2c5d-44f5-b723-3c13b074abe5"
      },
      "source": [
        "  X"
      ],
      "execution_count": null,
      "outputs": [
        {
          "output_type": "execute_result",
          "data": {
            "text/plain": [
              "array([0.92, 0.76, 0.72, 0.8 , 0.65, 0.9 , 0.75, 0.68, 0.5 , 0.45, 0.52,\n",
              "       0.84, 0.78, 0.62, 0.61, 0.54, 0.66, 0.65, 0.63, 0.62, 0.64, 0.7 ,\n",
              "       0.94, 0.95, 0.97, 0.94, 0.76, 0.44, 0.46, 0.54, 0.65, 0.74, 0.91,\n",
              "       0.9 , 0.94, 0.88, 0.64, 0.58, 0.52, 0.48, 0.46, 0.49, 0.53, 0.87,\n",
              "       0.91, 0.88, 0.86, 0.89, 0.82, 0.78, 0.76, 0.56, 0.78, 0.72, 0.7 ,\n",
              "       0.64, 0.64, 0.46, 0.36, 0.42, 0.48, 0.47, 0.54, 0.56, 0.52, 0.55,\n",
              "       0.61, 0.57, 0.68, 0.78, 0.94, 0.96, 0.93, 0.84, 0.74, 0.72, 0.74,\n",
              "       0.64, 0.44, 0.46, 0.5 , 0.96, 0.92, 0.92, 0.94, 0.76, 0.72, 0.66,\n",
              "       0.64, 0.74, 0.64, 0.38, 0.34, 0.44, 0.36, 0.42, 0.48, 0.86, 0.9 ,\n",
              "       0.79, 0.71, 0.64, 0.62, 0.57, 0.74, 0.69, 0.87, 0.91, 0.93, 0.68,\n",
              "       0.61, 0.69, 0.62, 0.72, 0.59, 0.66, 0.56, 0.45, 0.47, 0.71, 0.94,\n",
              "       0.94, 0.57, 0.61, 0.57, 0.64, 0.85, 0.78, 0.84, 0.92, 0.96, 0.77,\n",
              "       0.71, 0.79, 0.89, 0.82, 0.76, 0.71, 0.8 , 0.78, 0.84, 0.9 , 0.92,\n",
              "       0.97, 0.8 , 0.81, 0.75, 0.83, 0.96, 0.79, 0.93, 0.94, 0.86, 0.79,\n",
              "       0.8 , 0.77, 0.7 , 0.65, 0.61, 0.52, 0.57, 0.53, 0.67, 0.68, 0.81,\n",
              "       0.78, 0.65, 0.64, 0.64, 0.65, 0.68, 0.89, 0.86, 0.89, 0.87, 0.85,\n",
              "       0.9 , 0.82, 0.72, 0.73, 0.71, 0.71, 0.68, 0.75, 0.72, 0.89, 0.84,\n",
              "       0.93, 0.93, 0.88, 0.9 , 0.87, 0.86, 0.94, 0.77, 0.78, 0.73, 0.73,\n",
              "       0.7 , 0.72, 0.73, 0.72, 0.97, 0.97, 0.69, 0.57, 0.63, 0.66, 0.64,\n",
              "       0.68, 0.79, 0.82, 0.95, 0.96, 0.94, 0.93, 0.91, 0.85, 0.84, 0.74,\n",
              "       0.76, 0.75, 0.76, 0.71, 0.67, 0.61, 0.63, 0.64, 0.71, 0.82, 0.73,\n",
              "       0.74, 0.69, 0.64, 0.91, 0.88, 0.85, 0.86, 0.7 , 0.59, 0.6 , 0.65,\n",
              "       0.7 , 0.76, 0.63, 0.81, 0.72, 0.71, 0.8 , 0.77, 0.74, 0.7 , 0.71,\n",
              "       0.93, 0.85, 0.79, 0.76, 0.78, 0.77, 0.9 , 0.87, 0.71, 0.7 , 0.7 ,\n",
              "       0.75, 0.71, 0.72, 0.73, 0.83, 0.77, 0.72, 0.54, 0.49, 0.52, 0.58,\n",
              "       0.78, 0.89, 0.7 , 0.66, 0.67, 0.68, 0.8 , 0.81, 0.8 , 0.94, 0.93,\n",
              "       0.92, 0.89, 0.82, 0.79, 0.58, 0.56, 0.56, 0.64, 0.61, 0.68, 0.76,\n",
              "       0.86, 0.9 , 0.71, 0.62, 0.66, 0.65, 0.73, 0.62, 0.74, 0.79, 0.8 ,\n",
              "       0.69, 0.7 , 0.76, 0.84, 0.78, 0.67, 0.66, 0.65, 0.54, 0.58, 0.79,\n",
              "       0.8 , 0.75, 0.73, 0.72, 0.62, 0.67, 0.81, 0.63, 0.69, 0.8 , 0.43,\n",
              "       0.8 , 0.73, 0.75, 0.71, 0.73, 0.83, 0.72, 0.94, 0.81, 0.81, 0.75,\n",
              "       0.79, 0.58, 0.59, 0.47, 0.49, 0.47, 0.42, 0.57, 0.62, 0.74, 0.73,\n",
              "       0.64, 0.63, 0.59, 0.73, 0.79, 0.68, 0.7 , 0.81, 0.85, 0.93, 0.91,\n",
              "       0.69, 0.77, 0.86, 0.74, 0.57, 0.51, 0.67, 0.72, 0.89, 0.95, 0.79,\n",
              "       0.39, 0.38, 0.34, 0.47, 0.56, 0.71, 0.78, 0.73, 0.82, 0.62, 0.96,\n",
              "       0.96, 0.46, 0.53, 0.49, 0.76, 0.64, 0.71, 0.84, 0.77, 0.89, 0.82,\n",
              "       0.84, 0.91, 0.67, 0.95])"
            ]
          },
          "metadata": {
            "tags": []
          },
          "execution_count": 65
        }
      ]
    },
    {
      "cell_type": "code",
      "metadata": {
        "id": "79VknYDxklJ6"
      },
      "source": [
        "from sklearn.model_selection import train_test_split\r\n",
        "\r\n",
        "X_train, X_test, y_train, y_test = train_test_split(X, y, test_size = 1/3, random_state = 0)\r\n"
      ],
      "execution_count": null,
      "outputs": []
    },
    {
      "cell_type": "code",
      "metadata": {
        "colab": {
          "base_uri": "https://localhost:8080/"
        },
        "id": "MBGD78wgk8vK",
        "outputId": "6cf711b9-3208-402b-ec1f-fc5c8222d594"
      },
      "source": [
        "from sklearn.linear_model import LinearRegression\r\n",
        "regressor = LinearRegression()\r\n",
        "X_train = X_train.reshape(-1, 1)\r\n",
        "y_train = y_train.reshape(-1, 1)\r\n",
        "\r\n",
        "regressor.fit(X_train, y_train)\r\n"
      ],
      "execution_count": null,
      "outputs": [
        {
          "output_type": "execute_result",
          "data": {
            "text/plain": [
              "LinearRegression(copy_X=True, fit_intercept=True, n_jobs=None, normalize=False)"
            ]
          },
          "metadata": {
            "tags": []
          },
          "execution_count": 73
        }
      ]
    },
    {
      "cell_type": "code",
      "metadata": {
        "id": "_f4fSeeGl1mg"
      },
      "source": [
        "X_test = X_test.reshape(-1, 1)\r\n",
        " \r\n",
        "y_pred = regressor.predict(X_test)"
      ],
      "execution_count": null,
      "outputs": []
    },
    {
      "cell_type": "code",
      "metadata": {
        "colab": {
          "base_uri": "https://localhost:8080/"
        },
        "id": "Y4wr0nePl7zt",
        "outputId": "ba05faf2-58aa-4116-f398-d4741743f070"
      },
      "source": [
        "y_pred"
      ],
      "execution_count": null,
      "outputs": [
        {
          "output_type": "execute_result",
          "data": {
            "text/plain": [
              "array([[315.61091343],\n",
              "       [314.94538728],\n",
              "       [320.93512256],\n",
              "       [316.94196571],\n",
              "       [316.27643957],\n",
              "       [300.30381216],\n",
              "       [319.60407028],\n",
              "       [315.61091343],\n",
              "       [328.25591012],\n",
              "       [330.91801469],\n",
              "       [306.95907358],\n",
              "       [327.59038398],\n",
              "       [316.27643957],\n",
              "       [306.29354744],\n",
              "       [320.26959642],\n",
              "       [296.31065531],\n",
              "       [310.95223043],\n",
              "       [324.26275327],\n",
              "       [310.28670429],\n",
              "       [316.27643957],\n",
              "       [328.25591012],\n",
              "       [323.59722713],\n",
              "       [306.29354744],\n",
              "       [299.63828602],\n",
              "       [324.92827941],\n",
              "       [312.94880886],\n",
              "       [297.6417076 ],\n",
              "       [304.29696902],\n",
              "       [329.5869624 ],\n",
              "       [309.62117815],\n",
              "       [313.614335  ],\n",
              "       [316.94196571],\n",
              "       [316.94196571],\n",
              "       [308.95565201],\n",
              "       [304.96249516],\n",
              "       [317.60749185],\n",
              "       [310.95223043],\n",
              "       [327.59038398],\n",
              "       [316.94196571],\n",
              "       [331.58354083],\n",
              "       [315.61091343],\n",
              "       [316.27643957],\n",
              "       [318.27301799],\n",
              "       [318.93854414],\n",
              "       [325.59380555],\n",
              "       [314.94538728],\n",
              "       [294.31407689],\n",
              "       [320.93512256],\n",
              "       [308.95565201],\n",
              "       [310.95223043],\n",
              "       [315.61091343],\n",
              "       [321.6006487 ],\n",
              "       [308.95565201],\n",
              "       [327.59038398],\n",
              "       [313.614335  ],\n",
              "       [320.93512256],\n",
              "       [320.26959642],\n",
              "       [302.96591673],\n",
              "       [318.93854414],\n",
              "       [326.92485784],\n",
              "       [317.60749185],\n",
              "       [300.96933831],\n",
              "       [311.61775658],\n",
              "       [307.62459972],\n",
              "       [326.2593317 ],\n",
              "       [327.59038398],\n",
              "       [322.26617484],\n",
              "       [328.25591012],\n",
              "       [321.6006487 ],\n",
              "       [318.93854414],\n",
              "       [313.614335  ],\n",
              "       [326.2593317 ],\n",
              "       [313.614335  ],\n",
              "       [310.95223043],\n",
              "       [328.92143626],\n",
              "       [308.95565201],\n",
              "       [314.27986114],\n",
              "       [309.62117815],\n",
              "       [330.25248855],\n",
              "       [296.97618146],\n",
              "       [316.27643957],\n",
              "       [302.96591673],\n",
              "       [310.95223043],\n",
              "       [326.2593317 ],\n",
              "       [309.62117815],\n",
              "       [322.93170099],\n",
              "       [306.29354744],\n",
              "       [320.93512256],\n",
              "       [322.93170099],\n",
              "       [322.26617484],\n",
              "       [320.26959642],\n",
              "       [330.25248855],\n",
              "       [310.95223043],\n",
              "       [301.63486445],\n",
              "       [328.25591012],\n",
              "       [318.27301799],\n",
              "       [322.93170099],\n",
              "       [310.95223043],\n",
              "       [318.27301799],\n",
              "       [319.60407028],\n",
              "       [317.60749185],\n",
              "       [305.6280213 ],\n",
              "       [320.26959642],\n",
              "       [302.96591673],\n",
              "       [321.6006487 ],\n",
              "       [318.27301799],\n",
              "       [332.24906697],\n",
              "       [309.62117815],\n",
              "       [320.93512256],\n",
              "       [313.614335  ],\n",
              "       [300.30381216],\n",
              "       [317.60749185],\n",
              "       [318.93854414],\n",
              "       [314.94538728],\n",
              "       [325.59380555],\n",
              "       [328.92143626],\n",
              "       [328.25591012],\n",
              "       [320.26959642],\n",
              "       [314.94538728],\n",
              "       [307.62459972],\n",
              "       [290.98644618],\n",
              "       [315.61091343],\n",
              "       [328.92143626],\n",
              "       [314.27986114],\n",
              "       [299.63828602],\n",
              "       [329.5869624 ],\n",
              "       [330.91801469],\n",
              "       [315.61091343],\n",
              "       [317.60749185],\n",
              "       [310.95223043],\n",
              "       [330.25248855],\n",
              "       [319.60407028],\n",
              "       [308.95565201],\n",
              "       [308.29012587]])"
            ]
          },
          "metadata": {
            "tags": []
          },
          "execution_count": 76
        }
      ]
    },
    {
      "cell_type": "code",
      "metadata": {
        "colab": {
          "base_uri": "https://localhost:8080/",
          "height": 295
        },
        "id": "QO8SpDexl-Lu",
        "outputId": "3b0f2961-5ce0-41e3-b9ce-b54f9072de62"
      },
      "source": [
        "plt.scatter(X_train, y_train, color = 'red')\r\n",
        "plt.plot(X_train, regressor.predict(X_train), color = 'green')\r\n",
        "plt.title('GRE Score vs Chance of Admit (Training set)')\r\n",
        "plt.xlabel('Chance of Admit')\r\n",
        "plt.ylabel('GRE Score')\r\n",
        "plt.show()"
      ],
      "execution_count": null,
      "outputs": [
        {
          "output_type": "display_data",
          "data": {
            "image/png": "[encoded data removed]",
            "text/plain": [
              "<Figure size 432x288 with 1 Axes>"
            ]
          },
          "metadata": {
            "tags": [],
            "needs_background": "light"
          }
        }
      ]
    },
    {
      "cell_type": "code",
      "metadata": {
        "colab": {
          "base_uri": "https://localhost:8080/",
          "height": 295
        },
        "id": "tFaSDkvGmCDM",
        "outputId": "dfd2bfed-6af1-429b-f62b-5d0f36e185e9"
      },
      "source": [
        "plt.scatter(X_test, y_test, color = 'red')\r\n",
        "plt.plot(X_train, regressor.predict(X_train), color = 'green')\r\n",
        "plt.title('GRE Score vs Chance of Admit')\r\n",
        "plt.xlabel('Chance of Admit')\r\n",
        "plt.ylabel('GRE Score')\r\n",
        "plt.show() "
      ],
      "execution_count": null,
      "outputs": [
        {
          "output_type": "display_data",
          "data": {
            "image/png": "[encoded data removed]",
            "text/plain": [
              "<Figure size 432x288 with 1 Axes>"
            ]
          },
          "metadata": {
            "tags": [],
            "needs_background": "light"
          }
        }
      ]
    },
    {
      "cell_type": "code",
      "metadata": {
        "colab": {
          "base_uri": "https://localhost:8080/",
          "height": 128
        },
        "id": "jjQdA4EbmGmX",
        "outputId": "b9ab5301-c568-4001-a9d9-648796ffd9c2"
      },
      "source": [
        "git add."
      ],
      "execution_count": null,
      "outputs": [
        {
          "output_type": "error",
          "ename": "SyntaxError",
          "evalue": "ignored",
          "traceback": [
            "\u001b[0;36m  File \u001b[0;32m\"<ipython-input-51-b3f8b6bd159d>\"\u001b[0;36m, line \u001b[0;32m1\u001b[0m\n\u001b[0;31m    git add.\u001b[0m\n\u001b[0m          ^\u001b[0m\n\u001b[0;31mSyntaxError\u001b[0m\u001b[0;31m:\u001b[0m invalid syntax\n"
          ]
        }
      ]
    },
    {
      "cell_type": "code",
      "metadata": {
        "id": "ON8zTVaT1mI3"
      },
      "source": [
        "git clone\r\n",
        "cd\r\n",
        "git add.\r\n",
        "git comit m\r\n",
        "git push"
      ],
      "execution_count": null,
      "outputs": []
    }
  ]
}